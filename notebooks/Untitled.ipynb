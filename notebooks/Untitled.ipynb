{
 "cells": [
  {
   "cell_type": "code",
   "execution_count": 35,
   "metadata": {},
   "outputs": [],
   "source": [
    "import random\n",
    "\n",
    "def get_flat_list(cycles):\n",
    "    if cycles:\n",
    "        return [element for cycle in cycles for element in cycle]\n",
    "    else:\n",
    "        return []\n",
    "    \n",
    "def get_cycles(choices_org):\n",
    "    choices = choices_org.copy()\n",
    "    find_num=0\n",
    "    cycles = []\n",
    "    while not all([i == -1 for i in choices]):\n",
    "        cycle = []\n",
    "        slot_num = choices[find_num]\n",
    "        while (find_num not in get_flat_list(cycles)) and (find_num not in cycle):\n",
    "            cycle.append(slot_num)\n",
    "            choices[choices.index(slot_num)] = -1            \n",
    "            slot_num = choices[slot_num]\n",
    "        find_num += 1\n",
    "        if cycle:\n",
    "            cycles.append(cycle)\n",
    "    return cycles"
   ]
  },
  {
   "cell_type": "code",
   "execution_count": 54,
   "metadata": {},
   "outputs": [],
   "source": [
    "def simulate_cycle(n):\n",
    "    choices = list(range(n))\n",
    "    random.shuffle(choices)\n",
    "    cycles = get_cycles(choices)\n",
    "    return cycles"
   ]
  },
  {
   "cell_type": "code",
   "execution_count": 174,
   "metadata": {},
   "outputs": [],
   "source": [
    "import numpy as np\n",
    "import pandas as pd"
   ]
  },
  {
   "cell_type": "code",
   "execution_count": 56,
   "metadata": {},
   "outputs": [
    {
     "data": {
      "text/plain": [
       "[[4, 3, 0], [1], [2]]"
      ]
     },
     "execution_count": 56,
     "metadata": {},
     "output_type": "execute_result"
    }
   ],
   "source": [
    "simulate_cycle(5)"
   ]
  },
  {
   "cell_type": "code",
   "execution_count": 57,
   "metadata": {},
   "outputs": [],
   "source": [
    "\n",
    "calc_lengths = lambda cycles: np.array([len(cycle) for cycle in cycles])"
   ]
  },
  {
   "cell_type": "code",
   "execution_count": 202,
   "metadata": {},
   "outputs": [],
   "source": [
    "def simulate_cycles(n, n_trials=1000):\n",
    "    trials  = [simulate_cycle(n) for trial in range(n_trials)]\n",
    "    df_results = pd.DataFrame(dict(trials=trials))\n",
    "    df_results['cycle_lengths'] = df_results.trials.apply(lambda trial: [len(cycle) for cycle in trial])\n",
    "    df_results['num_cycles'] =  df_results.trials.apply(len)\n",
    "    df_results['avg_cycle_len'] =  df_results.cycle_lengths.apply(np.mean)\n",
    "    return df_results"
   ]
  },
  {
   "cell_type": "code",
   "execution_count": 203,
   "metadata": {},
   "outputs": [],
   "source": [
    "df_results = simulate_cycles(10)"
   ]
  },
  {
   "cell_type": "code",
   "execution_count": 204,
   "metadata": {},
   "outputs": [
    {
     "data": {
      "text/html": [
       "<div>\n",
       "<style scoped>\n",
       "    .dataframe tbody tr th:only-of-type {\n",
       "        vertical-align: middle;\n",
       "    }\n",
       "\n",
       "    .dataframe tbody tr th {\n",
       "        vertical-align: top;\n",
       "    }\n",
       "\n",
       "    .dataframe thead th {\n",
       "        text-align: right;\n",
       "    }\n",
       "</style>\n",
       "<table border=\"1\" class=\"dataframe\">\n",
       "  <thead>\n",
       "    <tr style=\"text-align: right;\">\n",
       "      <th></th>\n",
       "      <th>trials</th>\n",
       "      <th>cycle_lengths</th>\n",
       "      <th>num_cycles</th>\n",
       "      <th>avg_cycle_len</th>\n",
       "    </tr>\n",
       "  </thead>\n",
       "  <tbody>\n",
       "    <tr>\n",
       "      <th>0</th>\n",
       "      <td>[[5, 3, 8, 7, 0], [2, 1], [6, 4], [9]]</td>\n",
       "      <td>[5, 2, 2, 1]</td>\n",
       "      <td>4</td>\n",
       "      <td>2.500000</td>\n",
       "    </tr>\n",
       "    <tr>\n",
       "      <th>1</th>\n",
       "      <td>[[3, 7, 5, 8, 9, 6, 0], [1], [4, 2]]</td>\n",
       "      <td>[7, 1, 2]</td>\n",
       "      <td>3</td>\n",
       "      <td>3.333333</td>\n",
       "    </tr>\n",
       "    <tr>\n",
       "      <th>2</th>\n",
       "      <td>[[0], [9, 2, 5, 6, 3, 1], [7, 8, 4]]</td>\n",
       "      <td>[1, 6, 3]</td>\n",
       "      <td>3</td>\n",
       "      <td>3.333333</td>\n",
       "    </tr>\n",
       "    <tr>\n",
       "      <th>3</th>\n",
       "      <td>[[9, 3, 1, 0], [4, 7, 6, 5, 8, 2]]</td>\n",
       "      <td>[4, 6]</td>\n",
       "      <td>2</td>\n",
       "      <td>5.000000</td>\n",
       "    </tr>\n",
       "    <tr>\n",
       "      <th>4</th>\n",
       "      <td>[[1, 0], [4, 9, 7, 6, 8, 3, 5, 2]]</td>\n",
       "      <td>[2, 8]</td>\n",
       "      <td>2</td>\n",
       "      <td>5.000000</td>\n",
       "    </tr>\n",
       "    <tr>\n",
       "      <th>...</th>\n",
       "      <td>...</td>\n",
       "      <td>...</td>\n",
       "      <td>...</td>\n",
       "      <td>...</td>\n",
       "    </tr>\n",
       "    <tr>\n",
       "      <th>995</th>\n",
       "      <td>[[2, 7, 8, 1, 6, 9, 3, 5, 0], [4]]</td>\n",
       "      <td>[9, 1]</td>\n",
       "      <td>2</td>\n",
       "      <td>5.000000</td>\n",
       "    </tr>\n",
       "    <tr>\n",
       "      <th>996</th>\n",
       "      <td>[[7, 1, 5, 3, 8, 2, 0], [4], [9, 6]]</td>\n",
       "      <td>[7, 1, 2]</td>\n",
       "      <td>3</td>\n",
       "      <td>3.333333</td>\n",
       "    </tr>\n",
       "    <tr>\n",
       "      <th>997</th>\n",
       "      <td>[[4, 6, 2, 5, 9, 3, 0], [1], [8, 7]]</td>\n",
       "      <td>[7, 1, 2]</td>\n",
       "      <td>3</td>\n",
       "      <td>3.333333</td>\n",
       "    </tr>\n",
       "    <tr>\n",
       "      <th>998</th>\n",
       "      <td>[[2, 4, 3, 9, 1, 7, 5, 0], [8, 6]]</td>\n",
       "      <td>[8, 2]</td>\n",
       "      <td>2</td>\n",
       "      <td>5.000000</td>\n",
       "    </tr>\n",
       "    <tr>\n",
       "      <th>999</th>\n",
       "      <td>[[0], [4, 8, 1], [9, 5, 3, 2], [7, 6]]</td>\n",
       "      <td>[1, 3, 4, 2]</td>\n",
       "      <td>4</td>\n",
       "      <td>2.500000</td>\n",
       "    </tr>\n",
       "  </tbody>\n",
       "</table>\n",
       "<p>1000 rows × 4 columns</p>\n",
       "</div>"
      ],
      "text/plain": [
       "                                     trials cycle_lengths  num_cycles  \\\n",
       "0    [[5, 3, 8, 7, 0], [2, 1], [6, 4], [9]]  [5, 2, 2, 1]           4   \n",
       "1      [[3, 7, 5, 8, 9, 6, 0], [1], [4, 2]]     [7, 1, 2]           3   \n",
       "2      [[0], [9, 2, 5, 6, 3, 1], [7, 8, 4]]     [1, 6, 3]           3   \n",
       "3        [[9, 3, 1, 0], [4, 7, 6, 5, 8, 2]]        [4, 6]           2   \n",
       "4        [[1, 0], [4, 9, 7, 6, 8, 3, 5, 2]]        [2, 8]           2   \n",
       "..                                      ...           ...         ...   \n",
       "995      [[2, 7, 8, 1, 6, 9, 3, 5, 0], [4]]        [9, 1]           2   \n",
       "996    [[7, 1, 5, 3, 8, 2, 0], [4], [9, 6]]     [7, 1, 2]           3   \n",
       "997    [[4, 6, 2, 5, 9, 3, 0], [1], [8, 7]]     [7, 1, 2]           3   \n",
       "998      [[2, 4, 3, 9, 1, 7, 5, 0], [8, 6]]        [8, 2]           2   \n",
       "999  [[0], [4, 8, 1], [9, 5, 3, 2], [7, 6]]  [1, 3, 4, 2]           4   \n",
       "\n",
       "     avg_cycle_len  \n",
       "0         2.500000  \n",
       "1         3.333333  \n",
       "2         3.333333  \n",
       "3         5.000000  \n",
       "4         5.000000  \n",
       "..             ...  \n",
       "995       5.000000  \n",
       "996       3.333333  \n",
       "997       3.333333  \n",
       "998       5.000000  \n",
       "999       2.500000  \n",
       "\n",
       "[1000 rows x 4 columns]"
      ]
     },
     "execution_count": 204,
     "metadata": {},
     "output_type": "execute_result"
    }
   ],
   "source": [
    "df_results"
   ]
  },
  {
   "cell_type": "code",
   "execution_count": null,
   "metadata": {},
   "outputs": [],
   "source": []
  },
  {
   "cell_type": "code",
   "execution_count": 170,
   "metadata": {},
   "outputs": [
    {
     "data": {
      "text/plain": [
       "(7, 1, 2.948, 3.0)"
      ]
     },
     "execution_count": 170,
     "metadata": {},
     "output_type": "execute_result"
    }
   ],
   "source": [
    "results['number_cycles'].max(), results['number_cycles'].min(), results['number_cycles'].mean(), np.median(results['number_cycles'])"
   ]
  },
  {
   "cell_type": "code",
   "execution_count": 172,
   "metadata": {},
   "outputs": [
    {
     "data": {
      "text/plain": [
       "(10.0, 1.4285714285714286, 4.17445238095238, 3.3333333333333335)"
      ]
     },
     "execution_count": 172,
     "metadata": {},
     "output_type": "execute_result"
    }
   ],
   "source": [
    "results['average_cycle_lengths'].max(), results['average_cycle_lengths'].min(), results['average_cycle_lengths'].mean(), np.median(results['average_cycle_lengths'])"
   ]
  },
  {
   "cell_type": "code",
   "execution_count": 206,
   "metadata": {},
   "outputs": [
    {
     "data": {
      "text/plain": [
       "1"
      ]
     },
     "execution_count": 206,
     "metadata": {},
     "output_type": "execute_result"
    }
   ],
   "source": [
    "math.ceil(.5)"
   ]
  },
  {
   "cell_type": "code",
   "execution_count": 215,
   "metadata": {},
   "outputs": [],
   "source": [
    "n = 10\n",
    "thresh = 7"
   ]
  },
  {
   "cell_type": "code",
   "execution_count": 220,
   "metadata": {},
   "outputs": [
    {
     "data": {
      "text/plain": [
       "[0.25,\n",
       " 0.2,\n",
       " 0.16666666666666666,\n",
       " 0.14285714285714285,\n",
       " 0.125,\n",
       " 0.1111111111111111,\n",
       " 0.1]"
      ]
     },
     "execution_count": 220,
     "metadata": {},
     "output_type": "execute_result"
    }
   ],
   "source": [
    "([1/i for i in list(range(n - thresh + 1, n+1))])"
   ]
  },
  {
   "cell_type": "code",
   "execution_count": null,
   "metadata": {},
   "outputs": [],
   "source": []
  }
 ],
 "metadata": {
  "kernelspec": {
   "display_name": "Python (nlp_learning)",
   "language": "python",
   "name": "nlp_learning"
  },
  "language_info": {
   "codemirror_mode": {
    "name": "ipython",
    "version": 3
   },
   "file_extension": ".py",
   "mimetype": "text/x-python",
   "name": "python",
   "nbconvert_exporter": "python",
   "pygments_lexer": "ipython3",
   "version": "3.8.8"
  }
 },
 "nbformat": 4,
 "nbformat_minor": 4
}
